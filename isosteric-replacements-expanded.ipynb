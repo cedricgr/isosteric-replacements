{
 "cells": [
  {
   "cell_type": "markdown",
   "id": "9e428faf-14ff-4277-afbd-7d6399152b98",
   "metadata": {},
   "source": [
    "# DDU Training workbook: Isosteric replacements\n",
    "\n",
    "(c) Cedric Graebin - Medicinal Chemisry Trainer, [University of Dundee](https://drugdiscovery.dundee.ac.uk), Scotland, UK.\n",
    "This workbook is licensed under a permissive license.\n",
    "\n",
    "The isosteric replacements database was based on the work of Peter Ertl, obtained from Ertl, P. *J. Chem. Inf. Model*. **2020**, *60*, 7, 3369–3375. DOI: [10.1021/acs.jcim.0c00290](https://doi.org/10.1021/acs.jcim.0c00290). The database was prepared using KNIME analytics platform, and the workflow used to create that database is also available for download in the KNIME hub.\n",
    "\n",
    "---\n",
    "\n",
    "## Goals\n",
    "\n",
    "The main goal of this notebook is to show you how you can use [Python](https://www.python.org), the [RDKit chemistry toolkit](https://www.rdkit.org) and a database of isosteric replacements to apply these transformations to a molecule of your choice. In the end, you will get an enumeration - *i.e.*: a list of compounds that are the result of these isosteric replacements. \n",
    "\n",
    "We will be using the non-steroid antiinflammatory drug [Celecoxib](https://en.wikipedia.org/wiki/Celecoxib) as an example for this exercise. \n",
    "\n",
    "The notebook will have questions formatted as blockquotes to help you go through the content. The questions are designed for you to check on your results and make sense of the data you're getting as a result:\n",
    "\n",
    "> **Question:**\n",
    ">\n",
    "> This is an example question\n",
    "\n",
    "The answers will be at the end of the document\n",
    "\n",
    "### Before you begin, please make sure that:\n",
    "\n",
    "- you have your conda installation already set up with the tools required to run this notebook. Please refer to [this guide (Code Academy)](https://www.codecademy.com/article/setting-up-jupyter-notebook) on how to install both.\n",
    "- your conda environment has RDKit and Pandas installed. The official conda documentation has [guides on how to do this](https://docs.anaconda.com/working-with-conda/packages/install-packages/) if you're unsure.\n",
    "- also, make sure that the folder where this notebook is saved also contains the prepared isosteric database file `isosteric_replacement_table.csv` saved in it. This notebook will not run if that file is not present.\n",
    "\n",
    "### Also:\n",
    "\n",
    "Maybe this would be a good time to brush up your knowledge about isosteres and isosteric replacements? Here are some links as suggestions for a more detailed reading on the matter:\n",
    "- The Influence of Bioisosteres in Drug Design: Tactical Applications to Address Developability Problems, by Nicholas Meanwell. Tactics in Contemporary Drug Design. 2014 Jan 28;9:283–381. ([Link to PubMed](https://pmc.ncbi.nlm.nih.gov/articles/PMC7416817/))\n",
    "- Bioisosterism, by Christopher McCurdy and Claude Cohen. ([Link to the resource](https://www.drugdesign.org/chapters/bioisosterism/))\n",
    "\n",
    "### How to run this notebook?\n",
    "\n",
    "If you have your conda setup and jupyter lab or notebook installed, you are probably ready to run! You can execute each code block at a time by pressing `Shift+Enter`. In some instances, you'll be asked to check the results (which will be displayed below each block) before continue. Take your time and have some fun!\n",
    "\n",
    "### Ready to go?\n",
    "\n",
    "If you're ready, select the block below and press \"play\" or press `Shift+Enter` in your keyboard to advance the code blocks. \n",
    "\n",
    "---"
   ]
  },
  {
   "cell_type": "markdown",
   "id": "d55e9b7c-dbed-4177-bd3b-6ba02a6e589c",
   "metadata": {},
   "source": [
    "## 1. First things first\n",
    "\n",
    "We need to instruct Python to load some required modules - RDKit to process the chemical structures and perform the reactions, and [pandas](https://pandas.pydata.org/) to help us to manipulate the datasets we'll need to use."
   ]
  },
  {
   "cell_type": "code",
   "execution_count": null,
   "id": "8795afff-bbb6-4cd8-8809-d6885c0bef34",
   "metadata": {},
   "outputs": [],
   "source": [
    "# import required Python modules (RDKit and Pandas)\n",
    "from rdkit import Chem\n",
    "from rdkit.Chem import AllChem, PandasTools\n",
    "from rdkit.Chem.Draw import IPythonConsole\n",
    "from rdkit.Chem.Draw import MolDrawing, DrawingOptions\n",
    "import pandas as pd\n",
    "\n",
    "# Drawing options\n",
    "DrawingOptions.bondLineWidth=1.2\n",
    "DrawingOptions.atomLabelFontSize=20\n",
    "DrawingOptions.includeAtomNumbers=False\n",
    "\n",
    "# Pandas Options\n",
    "pd.set_option(\"display.max_rows\", 20)"
   ]
  },
  {
   "cell_type": "markdown",
   "id": "7ede256e-90f3-46ed-b72e-6b27a00e322d",
   "metadata": {},
   "source": [
    "After that,  we will input the structure of Celecoxib into the code, using the [SMILES](https://en.wikipedia.org/wiki/SMILES_arbitrary_target_specification) language to describe the chemical structure.\n",
    "\n",
    "The next block will also output the structure as a drawing, so you can check if everything is correct with it."
   ]
  },
  {
   "cell_type": "code",
   "execution_count": null,
   "id": "7423f079-7eac-40be-b12a-85961701b622",
   "metadata": {},
   "outputs": [],
   "source": [
    "# input the molecule from which the isosteric replacements will be applied to. \n",
    "# default is Celecoxib => SMILES = \"Cc1ccc(cc1)c1cc(nn1c1ccc(cc1)S(=O)(=O)N)C(F)(F)F\"\n",
    "molecule = Chem.MolFromSmiles(\"Cc1ccc(cc1)c1cc(nn1c1ccc(cc1)S(=O)(=O)N)C(F)(F)F\")\n",
    "\n",
    "# Display the molecule\n",
    "molecule"
   ]
  },
  {
   "cell_type": "markdown",
   "id": "88194604-c818-4f89-a24f-ccd69b26dbb6",
   "metadata": {},
   "source": [
    "---\n",
    "\n",
    "## 2. Loading the isosteric replacements dataset\n",
    "\n",
    "If everything is correct with the structure, the next step is to load the database of isosteric replacements (`isostere_replacement_table.csv`) adapted from the work of [Peter Ertl](https://peter-ertl.com/) (see reference on the top of this notebook) as a `DataFrame`. Think of it as a table with rows and columns (which a DataFrame is) that we can manipulate, change, edit, and filter, among other data transformations. \n",
    "\n",
    "On the code below, we are using the `sep=\";\"` parameter to specify that the file has its data columns separated by \";\". We are also making clear that the encoding is UTF-8 (Unicode), quotes are enclosed using `\"`, parser should skip bad lines, and comment lines begin with the `#` character."
   ]
  },
  {
   "cell_type": "code",
   "execution_count": null,
   "id": "224dac88-864a-40ad-83dc-d3ef823dea5d",
   "metadata": {},
   "outputs": [],
   "source": [
    "# load the isostere database\n",
    "isosteres = pd.read_csv(\"isostere_replacement_table_expanded.csv\", sep=\";\", encoding=\"utf-8\", on_bad_lines=\"skip\", quotechar='\"', comment=\"#\")"
   ]
  },
  {
   "cell_type": "markdown",
   "id": "19cccd43-a7cd-4227-abcd-4df61e5a4160",
   "metadata": {},
   "source": [
    "We can quickly check if everything is okay with the table by using the `.head()` and `.tail()` methods to extract the first and last rows of the DataFrame."
   ]
  },
  {
   "cell_type": "code",
   "execution_count": null,
   "id": "0bd20e41-5fa2-4bdc-8d37-e5917ac0bc92",
   "metadata": {},
   "outputs": [],
   "source": [
    "# check the table structure - head() gives out the first rows of a dataframe\n",
    "isosteres.head()"
   ]
  },
  {
   "cell_type": "code",
   "execution_count": null,
   "id": "8757f599-7c5b-409a-81e8-69dc23d519c6",
   "metadata": {},
   "outputs": [],
   "source": [
    "# tail, on the other hand, gives out the last rows on a dataframe\n",
    "isosteres.tail()"
   ]
  },
  {
   "cell_type": "markdown",
   "id": "27a38d77-6cb2-4d40-8765-47503fe19f7a",
   "metadata": {},
   "source": [
    "Looking at the columns `R_group`, `R-group to search for`, `Isostere substitution`, and `Reaction (SMARTS)`, does it look like a gibberish code to you? \n",
    "\n",
    "That's ok, you don't need to worry. \n",
    "\n",
    "`R_group` and `R-group to search for` are depicting the same structural pattern in two different languages: SMILES and [SMARTS](https://www.daylight.com/dayhtml_tutorials/languages/smarts/), respectively. At a glance, SMARTS depicts strucutral patterns, useful when you need to search for a substructure in a complex molecule (e.g.: does Celecoxib has a benzene ring?). SMARTS will be employed extensively in the code below as the search pattern that RDKit will use to look for these substructural patterns.\n",
    "\n",
    "Assuming that everything is okay,\n",
    "\n",
    "> **Question:**\n",
    ">\n",
    "> How many rows does the DataFrame table have?\n",
    "\n",
    "We will proceed with the exercise. You may have noted that the 5 first rows of the table have the same R-group, `C[*]`. On SMILES notation, this can be interpreted as `methyl group attached to any atom except Hydrogen`. In order to know which isosteric replacements are going to be made, we need to know which functional groups are present in Celecoxib's structure that can be replaced. We could simply check every row of the table, but this can be time consuming, considering that we have thousands of rows!\n",
    "\n",
    "We could speed up the search by filtering the table and getting only the *unique* items in it. `pandas` has a method for this, the `unique()` method.\n",
    "\n",
    "Let us create two `series`, for the columns with the structures in both SMILES and SMARTS formats, and then we'll use `len` to have the number of items (or its *length*) in it."
   ]
  },
  {
   "cell_type": "code",
   "execution_count": null,
   "id": "415cd4e8-3bcc-47a2-ada5-b5b12c50bfe0",
   "metadata": {},
   "outputs": [],
   "source": [
    "# Gets the unique values (SMILES and SMARTS) from the Isosteres table\n",
    "unique_R_groups_smiles = isosteres[\"R_group\"].unique()\n",
    "unique_R_groups_smarts = isosteres[\"R-group to search for\"].unique()\n",
    "\n",
    "# how many unique itens does these lists have?\n",
    "print(\"Number of items: \", str(len(unique_R_groups_smiles)))"
   ]
  },
  {
   "cell_type": "markdown",
   "id": "92b5f78f-28e0-477d-9a99-6d6fb913e1fc",
   "metadata": {},
   "source": [
    "Now, we're going to search, in our molecule, how many of these R-groups can be found. We will use the `HasSubstructMatch` method to check if our molecule has a particular substructure. This method is going to be run in a iteration against every row in our table with the unique R-groups and it will return `True` or `False`, indicating whether the substructure can be found or not in our molecule. \n",
    "\n",
    "What matters to us, in this exercise, are the R-groups that were found. The `query()` method will help us to filter down the table so we'll be dealing only with the positive matches."
   ]
  },
  {
   "cell_type": "code",
   "execution_count": null,
   "id": "da82bbb6-dbf7-48ab-848e-895861661d8a",
   "metadata": {},
   "outputs": [],
   "source": [
    "# creates a new, empty DataFrame that will check if the R-group was found (True) or not (False) in the isosteres database\n",
    "r_groups_found = pd.DataFrame()\n",
    "r_groups_found[\"R-group to be searched for\"] = unique_R_groups_smiles\n",
    "r_groups_found[\"Found\"] = pd.Series([molecule.HasSubstructMatch(Chem.MolFromSmarts(smarts_pattern)) for smarts_pattern in unique_R_groups_smarts])\n",
    "r_groups_found_filtered = r_groups_found.query(\"Found == True\")\n",
    "r_groups_found_filtered"
   ]
  },
  {
   "cell_type": "markdown",
   "id": "6c84f5c8-58f6-4b0c-89da-e4356c03ed60",
   "metadata": {},
   "source": [
    "The SMILES representation of a molecule doesn't help a lot, does it?\n",
    "\n",
    "Maybe we'll can do something better. RDKit can convert the SMARTS code into molecules and render them as drawings, *inside the DataFrame*, and then display the table back to us."
   ]
  },
  {
   "cell_type": "code",
   "execution_count": null,
   "id": "3efdf4d0-9401-45e4-9d2a-da6ed0fb5a96",
   "metadata": {},
   "outputs": [],
   "source": [
    "# adds the RDKit Molecule representation of the SMILES structures to the table using RDKit's PandasTools\n",
    "PandasTools.AddMoleculeColumnToFrame(r_groups_found_filtered, \n",
    "                                     \"R-group to be searched for\", \n",
    "                                     \"R-groups (RDKit)\", \n",
    "                                     False)\n",
    "\n",
    "# display the DataTable so the user can choose which rows to keep for the enumeration\n",
    "r_groups_found_filtered"
   ]
  },
  {
   "cell_type": "markdown",
   "id": "4f0c0c54-da35-46ca-a1b8-7de1e792f513",
   "metadata": {},
   "source": [
    "> **Question:**\n",
    ">\n",
    "> How many R-groups were found in Celecoxib's structure? What can you make of these results?\n",
    ">\n",
    "> Looks like one of the structures couldn't be drawn. There are some warning messages on the top of the table. Can you make sense of them?\n",
    "\n",
    "\n",
    "You'll notice that some of the results do *overlap*. We have, for example, a C-F bond and a CF3 bond. They refer to the same group because there is only one part of the molecule with C-F bonds. In other words, *C-F is a substructure of CF3*. \n",
    "\n",
    "The same can be seen with the benzene / methylbenzene, and the phenylsulfone / phenylsulfonamide / amine moieties. We don't need to run the isosteric replacements for all of them. \n",
    "\n",
    "What we can do is to filter further down the `DataFrame`, using the `.iloc()` method to pick and choose which rows we want to run the isosteric replacements. For this example, let us pick the methyl (index 0), trifluoromethyl (index 11), sulfonamide (index 43), and the methylbenzene (index 48) units and then check the results."
   ]
  },
  {
   "cell_type": "code",
   "execution_count": null,
   "id": "5e4fc6f5-929d-47a5-a6cb-a097b36c1260",
   "metadata": {},
   "outputs": [],
   "source": [
    "# creates a new DataFrame filtering only the selected indexes\n",
    "# or, in plain English: which R-groups would you like to propose isosteric replacements?\n",
    "r_groups_to_apply = r_groups_found.iloc[[0, 11, 43, 48]]\n",
    "\n",
    "# displays the filtered DataTable\n",
    "r_groups_to_apply"
   ]
  },
  {
   "cell_type": "markdown",
   "id": "a530d782-402f-4b80-b8fc-0403e622c715",
   "metadata": {},
   "source": [
    "Now, we're going back to the table that we imported from the CSV file, `isosteres`. First, we will filter this table to keep only the rows in which the R-groups we selected are present. The `.apply()` method will do that to us.\n",
    "\n",
    "At this moment, what matters to us is the column that contain the transformations we want to apply as SMARTS. We'll output this column as a `Series` object."
   ]
  },
  {
   "cell_type": "code",
   "execution_count": null,
   "id": "cc4e584c-4699-4af5-b186-d33da8b1cb20",
   "metadata": {},
   "outputs": [],
   "source": [
    "# gets a new DataFrame whose R-groups from the isosteres database match the chosen R-groups from the r_groups_to_apply\n",
    "# dataframe\n",
    "transformations = isosteres.apply(lambda row: row[isosteres[\"R_group\"].isin(r_groups_to_apply[\"R-group to be searched for\"])])\n",
    "\n",
    "# gets a Pandas.Series object wih the SMARTS reaction strings to iterate\n",
    "reactions = transformations[\"Reaction (SMARTS)\"]"
   ]
  },
  {
   "cell_type": "markdown",
   "id": "40df29fd-c487-4d83-8ca0-be9b6c859797",
   "metadata": {},
   "source": [
    "Then, we'll iterate over all the reactions, applying all of them, one at a time, to Celecoxib (represented as `molecule`), and retrieve the products in  a `List` object. We can use again `len()` to get the number of products coming out.\n",
    "\n",
    "In other words, this is where the enumeration (generation of a list of compounds) is happening."
   ]
  },
  {
   "cell_type": "code",
   "execution_count": null,
   "id": "2ace696b-44f5-43d6-a48c-e36562e2aad5",
   "metadata": {},
   "outputs": [],
   "source": [
    "# Here's where the chemical transformations happen. The loop uses the RDKit.AllChem.Rxn to create and run a reaction\n",
    "# using the molecule as reactant, and the SMARTS as the reaction to be run. The products obtained as results are stored\n",
    "# as a Python list object\n",
    "enumerated_replacements_smiles = []\n",
    "for index, item in reactions.items():\n",
    "    rxn = AllChem.ReactionFromSmarts(item)\n",
    "    products = rxn.RunReactants([molecule])\n",
    "    enumerated_replacements_smiles.append(Chem.MolToSmiles(products[0][0]))\n",
    "\n",
    "# How many products were obtained?\n",
    "print(\"Answer: there are\", len(enumerated_replacements_smiles), \"rows in the DataFrame\")"
   ]
  },
  {
   "cell_type": "markdown",
   "id": "7821f326-9250-4e6c-9f13-cae3cf7bf8bf",
   "metadata": {},
   "source": [
    "There is a possibility, though, that different reactions led to the same product at the end. We'll make sure that there are no duplicate structures by using `unique()` again."
   ]
  },
  {
   "cell_type": "code",
   "execution_count": null,
   "id": "b9f99a7b-4d00-4c2e-b406-033548faf56f",
   "metadata": {},
   "outputs": [],
   "source": [
    "# creates the result DataTable with the molecules as SMARTS\n",
    "enumerated_molecules = pd.DataFrame(enumerated_replacements_smiles, columns=[\"Suggestions (SMILES)\"])\n",
    "\n",
    "# removes duplicates based on the column with SMILES structures and re-creates the DataFrame\n",
    "enumerated_molecules = pd.DataFrame(enumerated_molecules[\"Suggestions (SMILES)\"].unique(), columns=[\"Suggestions (SMILES)\"]).reset_index(drop=True)"
   ]
  },
  {
   "cell_type": "markdown",
   "id": "f8f78ae0-6c0c-47c1-949b-c8ab766c9b1f",
   "metadata": {},
   "source": [
    "Almost there! In order for us to visually inspect the enumerated compounds, we'll use RDKit to render the compounds as drawings, so we can actually see which compounds are coming out of the isosteric replacements. "
   ]
  },
  {
   "cell_type": "code",
   "execution_count": null,
   "id": "cb2a5116-8fb6-416f-871e-c3e1be071088",
   "metadata": {},
   "outputs": [],
   "source": [
    "# adds a column with RDKit Mol objects\n",
    "PandasTools.AddMoleculeColumnToFrame(enumerated_molecules, \n",
    "                                     \"Suggestions (SMILES)\", \n",
    "                                     \"Suggestions (RDKit)\", \n",
    "                                     False)\n",
    "\n",
    "# forces Pandas to render all rows in the table and displays the final result\n",
    "pd.set_option('display.max_rows', None)\n",
    "enumerated_molecules"
   ]
  },
  {
   "cell_type": "markdown",
   "id": "93e3c9fe-62a6-4bc5-bbcc-111a64ca9688",
   "metadata": {},
   "source": [
    "> **Question:**\n",
    ">\n",
    "> How many unique compounds are depicted in the table?\n",
    "> What does the \"some molecules cannot be kekulized\" error means?\n",
    "\n",
    "Now, we can export the table as a CSV file containing the structures as SMARTS. This can be used in other software packages, or queried against public chemistry databases, such as ChEMBL or PubChem. The file will be saved in the same folder where the notebook file is.\n"
   ]
  },
  {
   "cell_type": "code",
   "execution_count": null,
   "id": "9e66bdd0-5d8e-4324-ac01-2e98461393c8",
   "metadata": {},
   "outputs": [],
   "source": [
    "# exports the result as an CSV file - only the SMILES structures for each enumerated compound\n",
    "enumerated_molecules[\"Suggestions (SMILES)\"].to_csv(\"enumerated_molecules_expanded.csv\", index=False)"
   ]
  },
  {
   "cell_type": "markdown",
   "id": "acb9a478-54ba-4c2a-8b00-527757dfda89",
   "metadata": {},
   "source": [
    "And that is it! You have learned how to use Python, pandas, and RDKit to retrieve a database of isosteric replacements, apply these replacements to a drug-like structure and get an enumeration of the compounds coming out of these replacements, and inspect the results. This is only a tiny fraction of what you can do with Python and RDKit!\n",
    "\n",
    "---"
   ]
  },
  {
   "cell_type": "markdown",
   "id": "6b7abcb1-2c41-4064-9050-916cb5b91364",
   "metadata": {},
   "source": [
    "### Answers to questions\n",
    "\n",
    "> *How many rows does the DataFrame table have?*  \n",
    ">> Answer: The expanded isosteres table (as of Dec. 2024) has 40329 rows.\n",
    ">\n",
    "> \n",
    "> *How many R-groups were found in Celecoxib's structure? What can you make of these results?*  \n",
    ">> Answer: ten (10) R-groups from the `isosteres` table were found in Celecoxib's structure. Some of them overlap, though. This is true for the C-F and CF3, as well as other functional groups present there.\n",
    ">\n",
    ">\n",
    "> *Looks like one of the structures couldn't be drawn. There are some warning messages on the top of the table. Can you make sense of them?*\n",
    "> > Answer: This is probably due to the \"can't kekulize mol\" error arising from RDKit. This error happens when RDKit cannot percieve a ring as aromatic. This is normally caused by an error in how the molecule is assembled during the reaction and it may arise from an error in the SMARTS code. You could try to copy the SMILES field representing the structure and testing it into another chemical-aware service, such as the free [MarvinJS](https://marvinjs-demo.chemaxon.com/latest/), and check if Marvin can interpret and render the structure.\n",
    "> \n",
    "> *How many unique compounds are depicted in the table?*   \n",
    ">> Answer: 608 (as of Dec. 2024).\n",
    "\n",
    "---"
   ]
  },
  {
   "cell_type": "markdown",
   "id": "67ef46b6-e46e-4723-9a27-7a293d5ea9d9",
   "metadata": {},
   "source": [
    "### Acknowledgements\n",
    "\n",
    "The author would like to thank Dr. [Peter Ertl](https://peter-ertl.com/) for the suggestions and insightful comments on how to use the database prepared by him in this workbook.\n",
    "\n",
    "Also, many thanks for the team developing the open-source chemistry toolkit [RDKit](https://www.rdkit.org). This notebook would exist without it."
   ]
  },
  {
   "cell_type": "code",
   "execution_count": null,
   "id": "e101645e-b2e1-4602-b9e6-185ef67dce25",
   "metadata": {},
   "outputs": [],
   "source": []
  }
 ],
 "metadata": {
  "kernelspec": {
   "display_name": "Python 3 (ipykernel)",
   "language": "python",
   "name": "python3"
  },
  "language_info": {
   "codemirror_mode": {
    "name": "ipython",
    "version": 3
   },
   "file_extension": ".py",
   "mimetype": "text/x-python",
   "name": "python",
   "nbconvert_exporter": "python",
   "pygments_lexer": "ipython3",
   "version": "3.10.14"
  }
 },
 "nbformat": 4,
 "nbformat_minor": 5
}
